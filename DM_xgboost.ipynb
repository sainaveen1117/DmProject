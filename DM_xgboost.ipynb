{
  "cells": [
    {
      "cell_type": "code",
      "execution_count": null,
      "metadata": {
        "colab": {
          "base_uri": "https://localhost:8080/"
        },
        "id": "c3497275-188e-4d42-b7e2-3dd77ae3591f",
        "outputId": "855f5d98-b7f9-4597-9917-39758e5947a1"
      },
      "outputs": [
        {
          "output_type": "stream",
          "name": "stderr",
          "text": [
            "[nltk_data] Downloading package punkt to /root/nltk_data...\n",
            "[nltk_data]   Unzipping tokenizers/punkt.zip.\n",
            "[nltk_data] Downloading package stopwords to /root/nltk_data...\n",
            "[nltk_data]   Unzipping corpora/stopwords.zip.\n",
            "[nltk_data] Downloading package wordnet to /root/nltk_data...\n"
          ]
        },
        {
          "output_type": "execute_result",
          "data": {
            "text/plain": [
              "True"
            ]
          },
          "metadata": {},
          "execution_count": 1
        }
      ],
      "source": [
        "import pandas as pd\n",
        "import nltk\n",
        "import ssl\n",
        "import re\n",
        "from nltk.corpus import stopwords\n",
        "from nltk.stem import WordNetLemmatizer\n",
        "from nltk.tokenize import word_tokenize\n",
        "from imblearn.over_sampling import SMOTE\n",
        "from textblob import TextBlob\n",
        "import matplotlib.pyplot as plt\n",
        "from sklearn.linear_model import LogisticRegression\n",
        "from sklearn.model_selection import train_test_split\n",
        "from sklearn.naive_bayes import MultinomialNB\n",
        "from sklearn.feature_extraction.text import CountVectorizer\n",
        "from sklearn.metrics import classification_report, accuracy_score\n",
        "try:\n",
        "    _create_unverified_https_context = ssl._create_unverified_context\n",
        "except AttributeError:\n",
        "    pass\n",
        "else:\n",
        "    ssl._create_default_https_context = _create_unverified_https_context\n",
        "\n",
        "nltk.download('punkt')\n",
        "nltk.download('stopwords')\n",
        "nltk.download('wordnet')"
      ],
      "id": "c3497275-188e-4d42-b7e2-3dd77ae3591f"
    },
    {
      "cell_type": "code",
      "execution_count": null,
      "metadata": {
        "id": "faa795aa-5cc8-46f4-877d-fafb1c792080"
      },
      "outputs": [],
      "source": [
        "df = pd.read_csv(\"https://raw.githubusercontent.com/shashank2325/CMPE-255-project/main/Hotel_reviews_sentiment_extracted.csv\")"
      ],
      "id": "faa795aa-5cc8-46f4-877d-fafb1c792080"
    },
    {
      "cell_type": "code",
      "source": [
        "df.head()"
      ],
      "metadata": {
        "colab": {
          "base_uri": "https://localhost:8080/",
          "height": 678
        },
        "id": "vSKvPDKWSnIV",
        "outputId": "20234206-41c1-4b31-a296-f376696698ad"
      },
      "id": "vSKvPDKWSnIV",
      "execution_count": null,
      "outputs": [
        {
          "output_type": "execute_result",
          "data": {
            "text/plain": [
              "   Unnamed: 0             dateAdded                         address  \\\n",
              "0           0  2018-01-18T18:43:12Z                 5620 Calle Real   \n",
              "1           1  2016-11-06T20:21:05Z  5th And San Carlos PO Box 3574   \n",
              "2           2  2016-11-06T20:21:05Z  5th And San Carlos PO Box 3574   \n",
              "3           3  2016-11-06T20:21:05Z  5th And San Carlos PO Box 3574   \n",
              "4           4  2016-11-06T20:21:05Z  5th And San Carlos PO Box 3574   \n",
              "\n",
              "                city                                    name postalCode  \\\n",
              "0             Goleta       Best Western Plus South Coast Inn      93117   \n",
              "1  Carmel by the Sea  Best Western Carmel's Town House Lodge      93921   \n",
              "2  Carmel by the Sea  Best Western Carmel's Town House Lodge      93921   \n",
              "3  Carmel by the Sea  Best Western Carmel's Town House Lodge      93921   \n",
              "4  Carmel by the Sea  Best Western Carmel's Town House Lodge      93921   \n",
              "\n",
              "  province  reviews.rating                                       reviews.text  \\\n",
              "0       CA             3.0  This hotel was nice and quiet. Did not know, t...   \n",
              "1       CA             4.0  We stayed in the king suite with the separatio...   \n",
              "2       CA             3.0  Parking was horrible, somebody ran into my ren...   \n",
              "3       CA             5.0  Not cheap but excellent location. Price is som...   \n",
              "4       CA             2.0  If you get the room that they advertised on th...   \n",
              "\n",
              "                                       reviews.title reviews.userCity  \\\n",
              "0                            Best Western Plus Hotel         San Jose   \n",
              "1  Clean rooms at solid rates in the heart of Carmel    San Francisco   \n",
              "2                                           Business  Prescott Valley   \n",
              "3                                          Very good         Guaynabo   \n",
              "4                       Low chance to come back here             Reno   \n",
              "\n",
              "  reviews.userProvince                                             review  \\\n",
              "0         UnitedStates  Best Western Plus Hotel This hotel was nice an...   \n",
              "1                   CA  Clean rooms at solid rates in the heart of Car...   \n",
              "2                   AZ  Business Parking was horrible, somebody ran in...   \n",
              "3                   PR  Very good Not cheap but excellent location. Pr...   \n",
              "4                   NV  Low chance to come back here If you get the ro...   \n",
              "\n",
              "   bert_sentiment_rating  rating_diff  \n",
              "0                    4.0          1.0  \n",
              "1                    4.0          0.0  \n",
              "2                    1.0          2.0  \n",
              "3                    4.0          1.0  \n",
              "4                    2.0          0.0  "
            ],
            "text/html": [
              "\n",
              "  <div id=\"df-8e2daf80-d000-4bbf-8719-8a9d33744598\" class=\"colab-df-container\">\n",
              "    <div>\n",
              "<style scoped>\n",
              "    .dataframe tbody tr th:only-of-type {\n",
              "        vertical-align: middle;\n",
              "    }\n",
              "\n",
              "    .dataframe tbody tr th {\n",
              "        vertical-align: top;\n",
              "    }\n",
              "\n",
              "    .dataframe thead th {\n",
              "        text-align: right;\n",
              "    }\n",
              "</style>\n",
              "<table border=\"1\" class=\"dataframe\">\n",
              "  <thead>\n",
              "    <tr style=\"text-align: right;\">\n",
              "      <th></th>\n",
              "      <th>Unnamed: 0</th>\n",
              "      <th>dateAdded</th>\n",
              "      <th>address</th>\n",
              "      <th>city</th>\n",
              "      <th>name</th>\n",
              "      <th>postalCode</th>\n",
              "      <th>province</th>\n",
              "      <th>reviews.rating</th>\n",
              "      <th>reviews.text</th>\n",
              "      <th>reviews.title</th>\n",
              "      <th>reviews.userCity</th>\n",
              "      <th>reviews.userProvince</th>\n",
              "      <th>review</th>\n",
              "      <th>bert_sentiment_rating</th>\n",
              "      <th>rating_diff</th>\n",
              "    </tr>\n",
              "  </thead>\n",
              "  <tbody>\n",
              "    <tr>\n",
              "      <th>0</th>\n",
              "      <td>0</td>\n",
              "      <td>2018-01-18T18:43:12Z</td>\n",
              "      <td>5620 Calle Real</td>\n",
              "      <td>Goleta</td>\n",
              "      <td>Best Western Plus South Coast Inn</td>\n",
              "      <td>93117</td>\n",
              "      <td>CA</td>\n",
              "      <td>3.0</td>\n",
              "      <td>This hotel was nice and quiet. Did not know, t...</td>\n",
              "      <td>Best Western Plus Hotel</td>\n",
              "      <td>San Jose</td>\n",
              "      <td>UnitedStates</td>\n",
              "      <td>Best Western Plus Hotel This hotel was nice an...</td>\n",
              "      <td>4.0</td>\n",
              "      <td>1.0</td>\n",
              "    </tr>\n",
              "    <tr>\n",
              "      <th>1</th>\n",
              "      <td>1</td>\n",
              "      <td>2016-11-06T20:21:05Z</td>\n",
              "      <td>5th And San Carlos PO Box 3574</td>\n",
              "      <td>Carmel by the Sea</td>\n",
              "      <td>Best Western Carmel's Town House Lodge</td>\n",
              "      <td>93921</td>\n",
              "      <td>CA</td>\n",
              "      <td>4.0</td>\n",
              "      <td>We stayed in the king suite with the separatio...</td>\n",
              "      <td>Clean rooms at solid rates in the heart of Carmel</td>\n",
              "      <td>San Francisco</td>\n",
              "      <td>CA</td>\n",
              "      <td>Clean rooms at solid rates in the heart of Car...</td>\n",
              "      <td>4.0</td>\n",
              "      <td>0.0</td>\n",
              "    </tr>\n",
              "    <tr>\n",
              "      <th>2</th>\n",
              "      <td>2</td>\n",
              "      <td>2016-11-06T20:21:05Z</td>\n",
              "      <td>5th And San Carlos PO Box 3574</td>\n",
              "      <td>Carmel by the Sea</td>\n",
              "      <td>Best Western Carmel's Town House Lodge</td>\n",
              "      <td>93921</td>\n",
              "      <td>CA</td>\n",
              "      <td>3.0</td>\n",
              "      <td>Parking was horrible, somebody ran into my ren...</td>\n",
              "      <td>Business</td>\n",
              "      <td>Prescott Valley</td>\n",
              "      <td>AZ</td>\n",
              "      <td>Business Parking was horrible, somebody ran in...</td>\n",
              "      <td>1.0</td>\n",
              "      <td>2.0</td>\n",
              "    </tr>\n",
              "    <tr>\n",
              "      <th>3</th>\n",
              "      <td>3</td>\n",
              "      <td>2016-11-06T20:21:05Z</td>\n",
              "      <td>5th And San Carlos PO Box 3574</td>\n",
              "      <td>Carmel by the Sea</td>\n",
              "      <td>Best Western Carmel's Town House Lodge</td>\n",
              "      <td>93921</td>\n",
              "      <td>CA</td>\n",
              "      <td>5.0</td>\n",
              "      <td>Not cheap but excellent location. Price is som...</td>\n",
              "      <td>Very good</td>\n",
              "      <td>Guaynabo</td>\n",
              "      <td>PR</td>\n",
              "      <td>Very good Not cheap but excellent location. Pr...</td>\n",
              "      <td>4.0</td>\n",
              "      <td>1.0</td>\n",
              "    </tr>\n",
              "    <tr>\n",
              "      <th>4</th>\n",
              "      <td>4</td>\n",
              "      <td>2016-11-06T20:21:05Z</td>\n",
              "      <td>5th And San Carlos PO Box 3574</td>\n",
              "      <td>Carmel by the Sea</td>\n",
              "      <td>Best Western Carmel's Town House Lodge</td>\n",
              "      <td>93921</td>\n",
              "      <td>CA</td>\n",
              "      <td>2.0</td>\n",
              "      <td>If you get the room that they advertised on th...</td>\n",
              "      <td>Low chance to come back here</td>\n",
              "      <td>Reno</td>\n",
              "      <td>NV</td>\n",
              "      <td>Low chance to come back here If you get the ro...</td>\n",
              "      <td>2.0</td>\n",
              "      <td>0.0</td>\n",
              "    </tr>\n",
              "  </tbody>\n",
              "</table>\n",
              "</div>\n",
              "    <div class=\"colab-df-buttons\">\n",
              "\n",
              "  <div class=\"colab-df-container\">\n",
              "    <button class=\"colab-df-convert\" onclick=\"convertToInteractive('df-8e2daf80-d000-4bbf-8719-8a9d33744598')\"\n",
              "            title=\"Convert this dataframe to an interactive table.\"\n",
              "            style=\"display:none;\">\n",
              "\n",
              "  <svg xmlns=\"http://www.w3.org/2000/svg\" height=\"24px\" viewBox=\"0 -960 960 960\">\n",
              "    <path d=\"M120-120v-720h720v720H120Zm60-500h600v-160H180v160Zm220 220h160v-160H400v160Zm0 220h160v-160H400v160ZM180-400h160v-160H180v160Zm440 0h160v-160H620v160ZM180-180h160v-160H180v160Zm440 0h160v-160H620v160Z\"/>\n",
              "  </svg>\n",
              "    </button>\n",
              "\n",
              "  <style>\n",
              "    .colab-df-container {\n",
              "      display:flex;\n",
              "      gap: 12px;\n",
              "    }\n",
              "\n",
              "    .colab-df-convert {\n",
              "      background-color: #E8F0FE;\n",
              "      border: none;\n",
              "      border-radius: 50%;\n",
              "      cursor: pointer;\n",
              "      display: none;\n",
              "      fill: #1967D2;\n",
              "      height: 32px;\n",
              "      padding: 0 0 0 0;\n",
              "      width: 32px;\n",
              "    }\n",
              "\n",
              "    .colab-df-convert:hover {\n",
              "      background-color: #E2EBFA;\n",
              "      box-shadow: 0px 1px 2px rgba(60, 64, 67, 0.3), 0px 1px 3px 1px rgba(60, 64, 67, 0.15);\n",
              "      fill: #174EA6;\n",
              "    }\n",
              "\n",
              "    .colab-df-buttons div {\n",
              "      margin-bottom: 4px;\n",
              "    }\n",
              "\n",
              "    [theme=dark] .colab-df-convert {\n",
              "      background-color: #3B4455;\n",
              "      fill: #D2E3FC;\n",
              "    }\n",
              "\n",
              "    [theme=dark] .colab-df-convert:hover {\n",
              "      background-color: #434B5C;\n",
              "      box-shadow: 0px 1px 3px 1px rgba(0, 0, 0, 0.15);\n",
              "      filter: drop-shadow(0px 1px 2px rgba(0, 0, 0, 0.3));\n",
              "      fill: #FFFFFF;\n",
              "    }\n",
              "  </style>\n",
              "\n",
              "    <script>\n",
              "      const buttonEl =\n",
              "        document.querySelector('#df-8e2daf80-d000-4bbf-8719-8a9d33744598 button.colab-df-convert');\n",
              "      buttonEl.style.display =\n",
              "        google.colab.kernel.accessAllowed ? 'block' : 'none';\n",
              "\n",
              "      async function convertToInteractive(key) {\n",
              "        const element = document.querySelector('#df-8e2daf80-d000-4bbf-8719-8a9d33744598');\n",
              "        const dataTable =\n",
              "          await google.colab.kernel.invokeFunction('convertToInteractive',\n",
              "                                                    [key], {});\n",
              "        if (!dataTable) return;\n",
              "\n",
              "        const docLinkHtml = 'Like what you see? Visit the ' +\n",
              "          '<a target=\"_blank\" href=https://colab.research.google.com/notebooks/data_table.ipynb>data table notebook</a>'\n",
              "          + ' to learn more about interactive tables.';\n",
              "        element.innerHTML = '';\n",
              "        dataTable['output_type'] = 'display_data';\n",
              "        await google.colab.output.renderOutput(dataTable, element);\n",
              "        const docLink = document.createElement('div');\n",
              "        docLink.innerHTML = docLinkHtml;\n",
              "        element.appendChild(docLink);\n",
              "      }\n",
              "    </script>\n",
              "  </div>\n",
              "\n",
              "\n",
              "<div id=\"df-dfac099a-5c97-4257-96e1-92d0923ff3c4\">\n",
              "  <button class=\"colab-df-quickchart\" onclick=\"quickchart('df-dfac099a-5c97-4257-96e1-92d0923ff3c4')\"\n",
              "            title=\"Suggest charts\"\n",
              "            style=\"display:none;\">\n",
              "\n",
              "<svg xmlns=\"http://www.w3.org/2000/svg\" height=\"24px\"viewBox=\"0 0 24 24\"\n",
              "     width=\"24px\">\n",
              "    <g>\n",
              "        <path d=\"M19 3H5c-1.1 0-2 .9-2 2v14c0 1.1.9 2 2 2h14c1.1 0 2-.9 2-2V5c0-1.1-.9-2-2-2zM9 17H7v-7h2v7zm4 0h-2V7h2v10zm4 0h-2v-4h2v4z\"/>\n",
              "    </g>\n",
              "</svg>\n",
              "  </button>\n",
              "\n",
              "<style>\n",
              "  .colab-df-quickchart {\n",
              "      --bg-color: #E8F0FE;\n",
              "      --fill-color: #1967D2;\n",
              "      --hover-bg-color: #E2EBFA;\n",
              "      --hover-fill-color: #174EA6;\n",
              "      --disabled-fill-color: #AAA;\n",
              "      --disabled-bg-color: #DDD;\n",
              "  }\n",
              "\n",
              "  [theme=dark] .colab-df-quickchart {\n",
              "      --bg-color: #3B4455;\n",
              "      --fill-color: #D2E3FC;\n",
              "      --hover-bg-color: #434B5C;\n",
              "      --hover-fill-color: #FFFFFF;\n",
              "      --disabled-bg-color: #3B4455;\n",
              "      --disabled-fill-color: #666;\n",
              "  }\n",
              "\n",
              "  .colab-df-quickchart {\n",
              "    background-color: var(--bg-color);\n",
              "    border: none;\n",
              "    border-radius: 50%;\n",
              "    cursor: pointer;\n",
              "    display: none;\n",
              "    fill: var(--fill-color);\n",
              "    height: 32px;\n",
              "    padding: 0;\n",
              "    width: 32px;\n",
              "  }\n",
              "\n",
              "  .colab-df-quickchart:hover {\n",
              "    background-color: var(--hover-bg-color);\n",
              "    box-shadow: 0 1px 2px rgba(60, 64, 67, 0.3), 0 1px 3px 1px rgba(60, 64, 67, 0.15);\n",
              "    fill: var(--button-hover-fill-color);\n",
              "  }\n",
              "\n",
              "  .colab-df-quickchart-complete:disabled,\n",
              "  .colab-df-quickchart-complete:disabled:hover {\n",
              "    background-color: var(--disabled-bg-color);\n",
              "    fill: var(--disabled-fill-color);\n",
              "    box-shadow: none;\n",
              "  }\n",
              "\n",
              "  .colab-df-spinner {\n",
              "    border: 2px solid var(--fill-color);\n",
              "    border-color: transparent;\n",
              "    border-bottom-color: var(--fill-color);\n",
              "    animation:\n",
              "      spin 1s steps(1) infinite;\n",
              "  }\n",
              "\n",
              "  @keyframes spin {\n",
              "    0% {\n",
              "      border-color: transparent;\n",
              "      border-bottom-color: var(--fill-color);\n",
              "      border-left-color: var(--fill-color);\n",
              "    }\n",
              "    20% {\n",
              "      border-color: transparent;\n",
              "      border-left-color: var(--fill-color);\n",
              "      border-top-color: var(--fill-color);\n",
              "    }\n",
              "    30% {\n",
              "      border-color: transparent;\n",
              "      border-left-color: var(--fill-color);\n",
              "      border-top-color: var(--fill-color);\n",
              "      border-right-color: var(--fill-color);\n",
              "    }\n",
              "    40% {\n",
              "      border-color: transparent;\n",
              "      border-right-color: var(--fill-color);\n",
              "      border-top-color: var(--fill-color);\n",
              "    }\n",
              "    60% {\n",
              "      border-color: transparent;\n",
              "      border-right-color: var(--fill-color);\n",
              "    }\n",
              "    80% {\n",
              "      border-color: transparent;\n",
              "      border-right-color: var(--fill-color);\n",
              "      border-bottom-color: var(--fill-color);\n",
              "    }\n",
              "    90% {\n",
              "      border-color: transparent;\n",
              "      border-bottom-color: var(--fill-color);\n",
              "    }\n",
              "  }\n",
              "</style>\n",
              "\n",
              "  <script>\n",
              "    async function quickchart(key) {\n",
              "      const quickchartButtonEl =\n",
              "        document.querySelector('#' + key + ' button');\n",
              "      quickchartButtonEl.disabled = true;  // To prevent multiple clicks.\n",
              "      quickchartButtonEl.classList.add('colab-df-spinner');\n",
              "      try {\n",
              "        const charts = await google.colab.kernel.invokeFunction(\n",
              "            'suggestCharts', [key], {});\n",
              "      } catch (error) {\n",
              "        console.error('Error during call to suggestCharts:', error);\n",
              "      }\n",
              "      quickchartButtonEl.classList.remove('colab-df-spinner');\n",
              "      quickchartButtonEl.classList.add('colab-df-quickchart-complete');\n",
              "    }\n",
              "    (() => {\n",
              "      let quickchartButtonEl =\n",
              "        document.querySelector('#df-dfac099a-5c97-4257-96e1-92d0923ff3c4 button');\n",
              "      quickchartButtonEl.style.display =\n",
              "        google.colab.kernel.accessAllowed ? 'block' : 'none';\n",
              "    })();\n",
              "  </script>\n",
              "</div>\n",
              "\n",
              "    </div>\n",
              "  </div>\n"
            ]
          },
          "metadata": {},
          "execution_count": 3
        }
      ]
    },
    {
      "cell_type": "code",
      "execution_count": null,
      "metadata": {
        "id": "5d9d833f-2e16-43b9-ae62-a659aedd77d9"
      },
      "outputs": [],
      "source": [
        "def clean_text(text):\n",
        "    text = text.lower()\n",
        "    text = re.sub(r'[^a-zA-Z0-9]', ' ', text)\n",
        "    text = re.sub(r'\\d+', '', text)\n",
        "    words = word_tokenize(text)\n",
        "    words = [word for word in words if word not in stopwords.words('english')]\n",
        "    lemmatizer = WordNetLemmatizer()\n",
        "    words = [lemmatizer.lemmatize(word) for word in words]\n",
        "    return ' '.join(words)\n",
        "\n",
        "df['review'] = df['review'].apply(clean_text)"
      ],
      "id": "5d9d833f-2e16-43b9-ae62-a659aedd77d9"
    },
    {
      "cell_type": "code",
      "execution_count": null,
      "metadata": {
        "id": "cc15b95d-fa7f-4a96-9700-09de340265a5"
      },
      "outputs": [],
      "source": [
        "df['combined_rating'] = (df['reviews.rating'] + df['bert_sentiment_rating']) / 2"
      ],
      "id": "cc15b95d-fa7f-4a96-9700-09de340265a5"
    },
    {
      "cell_type": "code",
      "execution_count": null,
      "metadata": {
        "id": "28248beb-33e5-4d20-bdd2-1c718d01e7d9"
      },
      "outputs": [],
      "source": [
        "def categorize_combined_rating(rating):\n",
        "    if rating >= 4:\n",
        "        return 'positive'\n",
        "    elif rating >= 3:\n",
        "        return 'neutral'\n",
        "    else:\n",
        "        return 'negative'\n",
        "df['combined_sentiment'] = df['combined_rating'].apply(categorize_combined_rating)"
      ],
      "id": "28248beb-33e5-4d20-bdd2-1c718d01e7d9"
    },
    {
      "cell_type": "code",
      "execution_count": null,
      "metadata": {
        "colab": {
          "base_uri": "https://localhost:8080/"
        },
        "id": "448b2f8b-cc6d-4eb4-9d26-8c7e67ee1376",
        "outputId": "7701d258-5df5-4711-c666-b4c3e13e466b"
      },
      "outputs": [
        {
          "output_type": "stream",
          "name": "stdout",
          "text": [
            "{'negative': 0, 'neutral': 1, 'positive': 2}\n"
          ]
        }
      ],
      "source": [
        "from sklearn.preprocessing import LabelEncoder\n",
        "le = LabelEncoder()\n",
        "df['combined_sentiment'] = le.fit_transform(df['combined_sentiment'])\n",
        "class_mapping = dict(zip(le.classes_, le.transform(le.classes_)))\n",
        "print(class_mapping)"
      ],
      "id": "448b2f8b-cc6d-4eb4-9d26-8c7e67ee1376"
    },
    {
      "cell_type": "code",
      "execution_count": null,
      "metadata": {
        "id": "e67742df-3f6b-453d-9e7b-4be5b9348809"
      },
      "outputs": [],
      "source": [
        "from sklearn.feature_extraction.text import TfidfVectorizer\n",
        "\n",
        "vectorizer = TfidfVectorizer(ngram_range=(1, 2))\n",
        "X_tfidf = vectorizer.fit_transform(df['review'])"
      ],
      "id": "e67742df-3f6b-453d-9e7b-4be5b9348809"
    },
    {
      "cell_type": "code",
      "execution_count": null,
      "metadata": {
        "id": "a43a9adc-67f4-40cc-bdcd-31dce975dfdc"
      },
      "outputs": [],
      "source": [
        "from sklearn.model_selection import train_test_split\n",
        "\n",
        "y = df['combined_sentiment']\n",
        "X_train, X_test, y_train, y_test = train_test_split(X_tfidf, y, test_size=0.2, random_state=42)"
      ],
      "id": "a43a9adc-67f4-40cc-bdcd-31dce975dfdc"
    },
    {
      "cell_type": "code",
      "execution_count": null,
      "metadata": {
        "colab": {
          "base_uri": "https://localhost:8080/",
          "height": 75
        },
        "id": "e2aa79b2-ce32-4511-abab-7ba16a8337a8",
        "outputId": "38762406-2e54-4324-c94b-3c885d173a43"
      },
      "outputs": [
        {
          "output_type": "execute_result",
          "data": {
            "text/plain": [
              "SVC()"
            ],
            "text/html": [
              "<style>#sk-container-id-1 {color: black;background-color: white;}#sk-container-id-1 pre{padding: 0;}#sk-container-id-1 div.sk-toggleable {background-color: white;}#sk-container-id-1 label.sk-toggleable__label {cursor: pointer;display: block;width: 100%;margin-bottom: 0;padding: 0.3em;box-sizing: border-box;text-align: center;}#sk-container-id-1 label.sk-toggleable__label-arrow:before {content: \"▸\";float: left;margin-right: 0.25em;color: #696969;}#sk-container-id-1 label.sk-toggleable__label-arrow:hover:before {color: black;}#sk-container-id-1 div.sk-estimator:hover label.sk-toggleable__label-arrow:before {color: black;}#sk-container-id-1 div.sk-toggleable__content {max-height: 0;max-width: 0;overflow: hidden;text-align: left;background-color: #f0f8ff;}#sk-container-id-1 div.sk-toggleable__content pre {margin: 0.2em;color: black;border-radius: 0.25em;background-color: #f0f8ff;}#sk-container-id-1 input.sk-toggleable__control:checked~div.sk-toggleable__content {max-height: 200px;max-width: 100%;overflow: auto;}#sk-container-id-1 input.sk-toggleable__control:checked~label.sk-toggleable__label-arrow:before {content: \"▾\";}#sk-container-id-1 div.sk-estimator input.sk-toggleable__control:checked~label.sk-toggleable__label {background-color: #d4ebff;}#sk-container-id-1 div.sk-label input.sk-toggleable__control:checked~label.sk-toggleable__label {background-color: #d4ebff;}#sk-container-id-1 input.sk-hidden--visually {border: 0;clip: rect(1px 1px 1px 1px);clip: rect(1px, 1px, 1px, 1px);height: 1px;margin: -1px;overflow: hidden;padding: 0;position: absolute;width: 1px;}#sk-container-id-1 div.sk-estimator {font-family: monospace;background-color: #f0f8ff;border: 1px dotted black;border-radius: 0.25em;box-sizing: border-box;margin-bottom: 0.5em;}#sk-container-id-1 div.sk-estimator:hover {background-color: #d4ebff;}#sk-container-id-1 div.sk-parallel-item::after {content: \"\";width: 100%;border-bottom: 1px solid gray;flex-grow: 1;}#sk-container-id-1 div.sk-label:hover label.sk-toggleable__label {background-color: #d4ebff;}#sk-container-id-1 div.sk-serial::before {content: \"\";position: absolute;border-left: 1px solid gray;box-sizing: border-box;top: 0;bottom: 0;left: 50%;z-index: 0;}#sk-container-id-1 div.sk-serial {display: flex;flex-direction: column;align-items: center;background-color: white;padding-right: 0.2em;padding-left: 0.2em;position: relative;}#sk-container-id-1 div.sk-item {position: relative;z-index: 1;}#sk-container-id-1 div.sk-parallel {display: flex;align-items: stretch;justify-content: center;background-color: white;position: relative;}#sk-container-id-1 div.sk-item::before, #sk-container-id-1 div.sk-parallel-item::before {content: \"\";position: absolute;border-left: 1px solid gray;box-sizing: border-box;top: 0;bottom: 0;left: 50%;z-index: -1;}#sk-container-id-1 div.sk-parallel-item {display: flex;flex-direction: column;z-index: 1;position: relative;background-color: white;}#sk-container-id-1 div.sk-parallel-item:first-child::after {align-self: flex-end;width: 50%;}#sk-container-id-1 div.sk-parallel-item:last-child::after {align-self: flex-start;width: 50%;}#sk-container-id-1 div.sk-parallel-item:only-child::after {width: 0;}#sk-container-id-1 div.sk-dashed-wrapped {border: 1px dashed gray;margin: 0 0.4em 0.5em 0.4em;box-sizing: border-box;padding-bottom: 0.4em;background-color: white;}#sk-container-id-1 div.sk-label label {font-family: monospace;font-weight: bold;display: inline-block;line-height: 1.2em;}#sk-container-id-1 div.sk-label-container {text-align: center;}#sk-container-id-1 div.sk-container {/* jupyter's `normalize.less` sets `[hidden] { display: none; }` but bootstrap.min.css set `[hidden] { display: none !important; }` so we also need the `!important` here to be able to override the default hidden behavior on the sphinx rendered scikit-learn.org. See: https://github.com/scikit-learn/scikit-learn/issues/21755 */display: inline-block !important;position: relative;}#sk-container-id-1 div.sk-text-repr-fallback {display: none;}</style><div id=\"sk-container-id-1\" class=\"sk-top-container\"><div class=\"sk-text-repr-fallback\"><pre>SVC()</pre><b>In a Jupyter environment, please rerun this cell to show the HTML representation or trust the notebook. <br />On GitHub, the HTML representation is unable to render, please try loading this page with nbviewer.org.</b></div><div class=\"sk-container\" hidden><div class=\"sk-item\"><div class=\"sk-estimator sk-toggleable\"><input class=\"sk-toggleable__control sk-hidden--visually\" id=\"sk-estimator-id-1\" type=\"checkbox\" checked><label for=\"sk-estimator-id-1\" class=\"sk-toggleable__label sk-toggleable__label-arrow\">SVC</label><div class=\"sk-toggleable__content\"><pre>SVC()</pre></div></div></div></div></div>"
            ]
          },
          "metadata": {},
          "execution_count": 10
        }
      ],
      "source": [
        "from sklearn.linear_model import LogisticRegression\n",
        "from sklearn.ensemble import RandomForestClassifier\n",
        "from sklearn.svm import SVC\n",
        "from sklearn.metrics import classification_report\n",
        "\n",
        "\n",
        "rf_clf = RandomForestClassifier()\n",
        "svc = SVC()\n",
        "\n",
        "\n",
        "rf_clf.fit(X_train, y_train)\n",
        "svc.fit(X_train, y_train)"
      ],
      "id": "e2aa79b2-ce32-4511-abab-7ba16a8337a8"
    },
    {
      "cell_type": "code",
      "execution_count": null,
      "metadata": {
        "id": "b20aab3a-3ca0-46e3-badb-5f13aae5d7bf",
        "colab": {
          "base_uri": "https://localhost:8080/"
        },
        "outputId": "94ce281a-280b-4c9f-af5a-9d662e5b1e34"
      },
      "outputs": [
        {
          "output_type": "stream",
          "name": "stdout",
          "text": [
            "Random Forest:\n",
            "               precision    recall  f1-score   support\n",
            "\n",
            "           0       0.91      0.36      0.51       622\n",
            "           1       0.86      0.04      0.08       546\n",
            "           2       0.76      1.00      0.86      2832\n",
            "\n",
            "    accuracy                           0.77      4000\n",
            "   macro avg       0.84      0.47      0.49      4000\n",
            "weighted avg       0.80      0.77      0.70      4000\n",
            "\n",
            "Support Vector Machine:\n",
            "               precision    recall  f1-score   support\n",
            "\n",
            "           0       0.87      0.62      0.72       622\n",
            "           1       0.68      0.15      0.25       546\n",
            "           2       0.82      0.99      0.90      2832\n",
            "\n",
            "    accuracy                           0.82      4000\n",
            "   macro avg       0.79      0.59      0.62      4000\n",
            "weighted avg       0.81      0.82      0.78      4000\n",
            "\n"
          ]
        }
      ],
      "source": [
        "print('Random Forest:\\n', classification_report(y_test, rf_clf.predict(X_test)))\n",
        "print('Support Vector Machine:\\n', classification_report(y_test, svc.predict(X_test)))"
      ],
      "id": "b20aab3a-3ca0-46e3-badb-5f13aae5d7bf"
    },
    {
      "cell_type": "code",
      "execution_count": null,
      "metadata": {
        "id": "10e05701-7e91-4a67-95b2-52d39409a1c9",
        "outputId": "f1470032-5d7b-4acb-d871-d04be664708e",
        "colab": {
          "base_uri": "https://localhost:8080/",
          "height": 248
        }
      },
      "outputs": [
        {
          "output_type": "execute_result",
          "data": {
            "text/plain": [
              "XGBClassifier(base_score=None, booster=None, callbacks=None,\n",
              "              colsample_bylevel=None, colsample_bynode=None,\n",
              "              colsample_bytree=None, device=None, early_stopping_rounds=None,\n",
              "              enable_categorical=False, eval_metric='mlogloss',\n",
              "              feature_types=None, gamma=None, grow_policy=None,\n",
              "              importance_type=None, interaction_constraints=None,\n",
              "              learning_rate=0.2, max_bin=None, max_cat_threshold=None,\n",
              "              max_cat_to_onehot=None, max_delta_step=None, max_depth=10,\n",
              "              max_leaves=None, min_child_weight=None, missing=nan,\n",
              "              monotone_constraints=None, multi_strategy=None, n_estimators=100,\n",
              "              n_jobs=None, num_class=3, num_parallel_tree=None, ...)"
            ],
            "text/html": [
              "<style>#sk-container-id-2 {color: black;background-color: white;}#sk-container-id-2 pre{padding: 0;}#sk-container-id-2 div.sk-toggleable {background-color: white;}#sk-container-id-2 label.sk-toggleable__label {cursor: pointer;display: block;width: 100%;margin-bottom: 0;padding: 0.3em;box-sizing: border-box;text-align: center;}#sk-container-id-2 label.sk-toggleable__label-arrow:before {content: \"▸\";float: left;margin-right: 0.25em;color: #696969;}#sk-container-id-2 label.sk-toggleable__label-arrow:hover:before {color: black;}#sk-container-id-2 div.sk-estimator:hover label.sk-toggleable__label-arrow:before {color: black;}#sk-container-id-2 div.sk-toggleable__content {max-height: 0;max-width: 0;overflow: hidden;text-align: left;background-color: #f0f8ff;}#sk-container-id-2 div.sk-toggleable__content pre {margin: 0.2em;color: black;border-radius: 0.25em;background-color: #f0f8ff;}#sk-container-id-2 input.sk-toggleable__control:checked~div.sk-toggleable__content {max-height: 200px;max-width: 100%;overflow: auto;}#sk-container-id-2 input.sk-toggleable__control:checked~label.sk-toggleable__label-arrow:before {content: \"▾\";}#sk-container-id-2 div.sk-estimator input.sk-toggleable__control:checked~label.sk-toggleable__label {background-color: #d4ebff;}#sk-container-id-2 div.sk-label input.sk-toggleable__control:checked~label.sk-toggleable__label {background-color: #d4ebff;}#sk-container-id-2 input.sk-hidden--visually {border: 0;clip: rect(1px 1px 1px 1px);clip: rect(1px, 1px, 1px, 1px);height: 1px;margin: -1px;overflow: hidden;padding: 0;position: absolute;width: 1px;}#sk-container-id-2 div.sk-estimator {font-family: monospace;background-color: #f0f8ff;border: 1px dotted black;border-radius: 0.25em;box-sizing: border-box;margin-bottom: 0.5em;}#sk-container-id-2 div.sk-estimator:hover {background-color: #d4ebff;}#sk-container-id-2 div.sk-parallel-item::after {content: \"\";width: 100%;border-bottom: 1px solid gray;flex-grow: 1;}#sk-container-id-2 div.sk-label:hover label.sk-toggleable__label {background-color: #d4ebff;}#sk-container-id-2 div.sk-serial::before {content: \"\";position: absolute;border-left: 1px solid gray;box-sizing: border-box;top: 0;bottom: 0;left: 50%;z-index: 0;}#sk-container-id-2 div.sk-serial {display: flex;flex-direction: column;align-items: center;background-color: white;padding-right: 0.2em;padding-left: 0.2em;position: relative;}#sk-container-id-2 div.sk-item {position: relative;z-index: 1;}#sk-container-id-2 div.sk-parallel {display: flex;align-items: stretch;justify-content: center;background-color: white;position: relative;}#sk-container-id-2 div.sk-item::before, #sk-container-id-2 div.sk-parallel-item::before {content: \"\";position: absolute;border-left: 1px solid gray;box-sizing: border-box;top: 0;bottom: 0;left: 50%;z-index: -1;}#sk-container-id-2 div.sk-parallel-item {display: flex;flex-direction: column;z-index: 1;position: relative;background-color: white;}#sk-container-id-2 div.sk-parallel-item:first-child::after {align-self: flex-end;width: 50%;}#sk-container-id-2 div.sk-parallel-item:last-child::after {align-self: flex-start;width: 50%;}#sk-container-id-2 div.sk-parallel-item:only-child::after {width: 0;}#sk-container-id-2 div.sk-dashed-wrapped {border: 1px dashed gray;margin: 0 0.4em 0.5em 0.4em;box-sizing: border-box;padding-bottom: 0.4em;background-color: white;}#sk-container-id-2 div.sk-label label {font-family: monospace;font-weight: bold;display: inline-block;line-height: 1.2em;}#sk-container-id-2 div.sk-label-container {text-align: center;}#sk-container-id-2 div.sk-container {/* jupyter's `normalize.less` sets `[hidden] { display: none; }` but bootstrap.min.css set `[hidden] { display: none !important; }` so we also need the `!important` here to be able to override the default hidden behavior on the sphinx rendered scikit-learn.org. See: https://github.com/scikit-learn/scikit-learn/issues/21755 */display: inline-block !important;position: relative;}#sk-container-id-2 div.sk-text-repr-fallback {display: none;}</style><div id=\"sk-container-id-2\" class=\"sk-top-container\"><div class=\"sk-text-repr-fallback\"><pre>XGBClassifier(base_score=None, booster=None, callbacks=None,\n",
              "              colsample_bylevel=None, colsample_bynode=None,\n",
              "              colsample_bytree=None, device=None, early_stopping_rounds=None,\n",
              "              enable_categorical=False, eval_metric=&#x27;mlogloss&#x27;,\n",
              "              feature_types=None, gamma=None, grow_policy=None,\n",
              "              importance_type=None, interaction_constraints=None,\n",
              "              learning_rate=0.2, max_bin=None, max_cat_threshold=None,\n",
              "              max_cat_to_onehot=None, max_delta_step=None, max_depth=10,\n",
              "              max_leaves=None, min_child_weight=None, missing=nan,\n",
              "              monotone_constraints=None, multi_strategy=None, n_estimators=100,\n",
              "              n_jobs=None, num_class=3, num_parallel_tree=None, ...)</pre><b>In a Jupyter environment, please rerun this cell to show the HTML representation or trust the notebook. <br />On GitHub, the HTML representation is unable to render, please try loading this page with nbviewer.org.</b></div><div class=\"sk-container\" hidden><div class=\"sk-item\"><div class=\"sk-estimator sk-toggleable\"><input class=\"sk-toggleable__control sk-hidden--visually\" id=\"sk-estimator-id-2\" type=\"checkbox\" checked><label for=\"sk-estimator-id-2\" class=\"sk-toggleable__label sk-toggleable__label-arrow\">XGBClassifier</label><div class=\"sk-toggleable__content\"><pre>XGBClassifier(base_score=None, booster=None, callbacks=None,\n",
              "              colsample_bylevel=None, colsample_bynode=None,\n",
              "              colsample_bytree=None, device=None, early_stopping_rounds=None,\n",
              "              enable_categorical=False, eval_metric=&#x27;mlogloss&#x27;,\n",
              "              feature_types=None, gamma=None, grow_policy=None,\n",
              "              importance_type=None, interaction_constraints=None,\n",
              "              learning_rate=0.2, max_bin=None, max_cat_threshold=None,\n",
              "              max_cat_to_onehot=None, max_delta_step=None, max_depth=10,\n",
              "              max_leaves=None, min_child_weight=None, missing=nan,\n",
              "              monotone_constraints=None, multi_strategy=None, n_estimators=100,\n",
              "              n_jobs=None, num_class=3, num_parallel_tree=None, ...)</pre></div></div></div></div></div>"
            ]
          },
          "metadata": {},
          "execution_count": 12
        }
      ],
      "source": [
        "from xgboost import XGBClassifier\n",
        "xgb_clf = XGBClassifier(\n",
        "    max_depth=10,\n",
        "    learning_rate=0.2,\n",
        "    n_estimators=100,\n",
        "    objective='multi:softmax',\n",
        "    num_class=3,\n",
        "    eval_metric='mlogloss',\n",
        "    use_label_encoder=False\n",
        ")\n",
        "xgb_clf.fit(X_train, y_train)"
      ],
      "id": "10e05701-7e91-4a67-95b2-52d39409a1c9"
    },
    {
      "cell_type": "code",
      "execution_count": null,
      "metadata": {
        "id": "fa3edb22-c572-4635-94ba-8dc653b04626",
        "outputId": "87747d0b-05f6-48dd-d2b3-679626e30e25",
        "colab": {
          "base_uri": "https://localhost:8080/"
        }
      },
      "outputs": [
        {
          "output_type": "stream",
          "name": "stdout",
          "text": [
            "              precision    recall  f1-score   support\n",
            "\n",
            "    negative       0.84      0.68      0.75       622\n",
            "     neutral       0.55      0.34      0.42       546\n",
            "    positive       0.87      0.97      0.91      2832\n",
            "\n",
            "    accuracy                           0.84      4000\n",
            "   macro avg       0.75      0.66      0.69      4000\n",
            "weighted avg       0.82      0.84      0.82      4000\n",
            "\n"
          ]
        }
      ],
      "source": [
        "preds = xgb_clf.predict(X_test)\n",
        "print(classification_report(y_test, preds, target_names=class_mapping))"
      ],
      "id": "fa3edb22-c572-4635-94ba-8dc653b04626"
    },
    {
      "cell_type": "code",
      "execution_count": null,
      "metadata": {
        "id": "5b6db53f-069a-4b72-afba-d895a3d36316",
        "outputId": "f0f0ab69-2f37-4cef-ff52-64d18b2bf41e",
        "colab": {
          "base_uri": "https://localhost:8080/"
        }
      },
      "outputs": [
        {
          "output_type": "execute_result",
          "data": {
            "text/plain": [
              "['xgboost_model.pkl']"
            ]
          },
          "metadata": {},
          "execution_count": 14
        }
      ],
      "source": [
        "import joblib\n",
        "\n",
        "model_filename = \"xgboost_model.pkl\"\n",
        "joblib.dump(xgb_clf, model_filename)"
      ],
      "id": "5b6db53f-069a-4b72-afba-d895a3d36316"
    },
    {
      "cell_type": "code",
      "execution_count": null,
      "metadata": {
        "id": "1bbfdbf4-aa2c-4d7f-991c-f0626e9627b9"
      },
      "outputs": [],
      "source": [],
      "id": "1bbfdbf4-aa2c-4d7f-991c-f0626e9627b9"
    }
  ],
  "metadata": {
    "accelerator": "GPU",
    "colab": {
      "machine_shape": "hm",
      "provenance": []
    },
    "kernelspec": {
      "display_name": "Python 3",
      "name": "python3"
    },
    "language_info": {
      "codemirror_mode": {
        "name": "ipython",
        "version": 3
      },
      "file_extension": ".py",
      "mimetype": "text/x-python",
      "name": "python",
      "nbconvert_exporter": "python",
      "pygments_lexer": "ipython3",
      "version": "3.11.5"
    }
  },
  "nbformat": 4,
  "nbformat_minor": 5
}